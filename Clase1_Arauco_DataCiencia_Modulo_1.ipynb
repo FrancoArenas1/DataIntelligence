{
  "nbformat": 4,
  "nbformat_minor": 0,
  "metadata": {
    "colab": {
      "provenance": [],
      "collapsed_sections": [],
      "include_colab_link": true
    },
    "kernelspec": {
      "name": "python3",
      "display_name": "Python 3"
    },
    "language_info": {
      "name": "python"
    }
  },
  "cells": [
    {
      "cell_type": "markdown",
      "metadata": {
        "id": "view-in-github",
        "colab_type": "text"
      },
      "source": [
        "<a href=\"https://colab.research.google.com/github/FrancoArenas1/DataIntelligence/blob/main/Clase1_Arauco_DataCiencia_Modulo_1.ipynb\" target=\"_parent\"><img src=\"https://colab.research.google.com/assets/colab-badge.svg\" alt=\"Open In Colab\"/></a>"
      ]
    },
    {
      "cell_type": "markdown",
      "source": [
        "# TEMAS\n",
        "\n",
        "**Módulo 1**: Introducción a la programación en Pyhton. \n",
        "1.   Palabras claves e identificadores de Python.\n",
        "2.   Valores, Datos simples y Operaciones.\n",
        "3. Bifurcaciones.\n",
        "4. Ciclos o Bucles.\n",
        "5. Funciones.\n",
        "\n"
      ],
      "metadata": {
        "id": "6ifp1RMbA8uu"
      }
    },
    {
      "cell_type": "markdown",
      "source": [
        "### Relatores\n",
        "\n",
        "\n",
        "\n",
        "1.   Yeiniel Alfonso (yeiniel.alfonso@dataciencia.com)\n",
        "2.   Rodrigo Hermosilla (rodrigo.hermosilla@dataciencia.com)\n",
        "3. Juan Francisco Pérez (juan.perez@dataciencia.com)\n",
        "\n"
      ],
      "metadata": {
        "id": "SeBVRNscBxnl"
      }
    },
    {
      "cell_type": "markdown",
      "source": [
        "# Objetivos del curso\n",
        "\n",
        "*   Comprender los fundamentos teóricos y\n",
        "conceptuales del big data y la ciencia de\n",
        "datos, como herramienta tecnológica para la\n",
        "gestión.\n",
        "*   Conocer métodos y modelos matemáticos y\n",
        "estadísticos fundamentales para el desarrollo\n",
        "de soluciones de data science.\n",
        "* Reconocer los requerimientos tecnológicos y\n",
        "de visualización para grandes volúmenes de\n",
        "datos.\n",
        "* Aplicar herramientas y metodologías para\n",
        "diseñar e implementar técnicas de data\n",
        "science en procesos de análisis y toma de\n",
        "decisiones\n",
        "\n"
      ],
      "metadata": {
        "id": "o8-eE6L3axJI"
      }
    },
    {
      "cell_type": "markdown",
      "source": [
        "**Algoritmos (definición informal)**\n",
        "\n",
        "Un conjunto finito de reglas (pasos u órdenes) que indican una secuencia de operaciones a ejecutar para alcanzar un resultado que soluciona un problema dado, esta secuencia de pasos debe poder ejecutarse aunque no se tenga conocimiento del problema que se resuelve.\n",
        "\n",
        "**Otros conceptos asociados:**\n",
        "\n",
        "Asociado al concepto de algoritmo está el concepto de “ejecutor” o “procesador” que es el ente que ejecuta los pasos que el algoritmo describe.\n",
        "\n",
        "El algoritmo es la guía de acción para el ejecutor; indica en una forma precisa e inteligible al ejecutar que ha de desarrollar una sucesión determinada de acciones para lograr el objetivo o solucionar un problema.\n",
        "\n",
        "Ejemplo: \n",
        "\n",
        "<img src=\"http://drive.google.com/uc?export=view&id=1cI5z7bM5QPp3lqc6djXMEaXunAXTmV06\">\n",
        "\n",
        "\n",
        "**Representación de algoritmos.**\n",
        "\n",
        "*   Lenguaje natural.\n",
        "*   Pseudocódigo.\n",
        "*   Diagramas de flujo.\n",
        "*   Lenguajes de programación.  \n",
        "\n",
        "**Lenguaje Natural**\n",
        "\n",
        "Es la lengua o idioma hablado o escrito por humanos para propósitos generales de comunicación. Se utiliza habitualmente cuando el ejecutor es el hombre y se utiliza su propio lenguaje para describir los pasos.\n",
        "\n",
        "**El Pseudocódigo**\n",
        "\n",
        "En ciencias de la computación, y análisis numérico es una descripción informal de alto nivel de un algoritmo informático de programación, que utiliza las convenciones estructurales de un lenguaje de programación verdadero, pero que está diseñado para la lectura humana en lugar de la lectura mediante máquina, y con independencia de cualquier otro lenguaje de programación.\n",
        "\n",
        "\n",
        "<img src=\"http://drive.google.com/uc?export=view&id=1q553Oa1d77hiofRLhQVstKr40EwmHTxT\">\n",
        "\n",
        "**Diagramas de Flujo**\n",
        "\n",
        "Los diagramas de flujo son descripciones gráficas de algoritmos; usan símbolos\n",
        "conectados con flechas para indicar la secuencia de instrucciones y están regidos por la ISO (Organización Internacional de Normalización).\n",
        "\n",
        "Los diagramas de flujo son usados para representar algoritmos pequeños, ya que\n",
        "abarcan mucho espacio y su construcción es laboriosa. Por su facilidad de lectura son usados como introducción a los algoritmos, descripción de un lenguaje y descripción de procesos a personas ajenas a la computación.\n",
        "\n",
        "**Lenguajes de programación**\n",
        "\n",
        "Un lenguaje de programación es un lenguaje formal diseñado para expresar procesos que pueden ser llevados a cabo por máquinas como las computadoras.\n",
        "\n",
        "Está formado por un conjunto de símbolos y reglas sintácticas y semánticas que definen su estructura y el significado de sus elementos y expresiones. Al proceso por el cual se escribe, se prueba, se depura, se compila (de ser necesario) y se mantiene el código fuente de un programa informático se le llama programación.\n",
        "\n",
        "Un lenguaje de programación es un lenguaje que intenta estar\n",
        "relativamente próximo al lenguaje humano o natural se denomina de alto nivel, mientras que uno que está próximo al lenguaje de máquina se denomina de bajo nivel.\n"
      ],
      "metadata": {
        "id": "sntf-mO9bpdw"
      }
    },
    {
      "cell_type": "markdown",
      "source": [
        "# Python\n",
        "\n",
        "Es un lenguaje de programación de alto nivel para desarrollar cualquier tipo de\n",
        "aplicaciones.\n",
        "\n",
        "Es un lenguaje interpretado, no es necesario compilarlo para ejecutar aplicaciones porque se ejecuta directamente por el ordenador mediante un programa denominado interpretador.\n",
        "\n",
        "<img src=\"http://drive.google.com/uc?export=view&id=1kjSJb9Y1pbuhXSTkpKBRAgSuoD4NFNsI\">"
      ],
      "metadata": {
        "id": "EB3EDidHjHHB"
      }
    },
    {
      "cell_type": "markdown",
      "metadata": {
        "nteract": {
          "transient": {
            "deleting": false
          }
        },
        "id": "JPjTZMFcxcoz"
      },
      "source": [
        "# Palabras Clave e Identificadores de Python\n",
        "\n",
        "## Palabras clave\n",
        "\n",
        "Son palabras reservadas que se utilizan para definir la sintaxis y la estructura del lenguaje Python.\n",
        "\n",
        "- Al ser reservadas, no pueden utilizarse para nombrar variables, funciones o cualquier otro identificador.\n",
        "- Todas las **palabras clave**, excepto `True`, `False` y `None`, están en minúsculas. \n",
        "- La lista de todas las palabras clave se muestra en la siguiente tabla.\n",
        "\n",
        "<br>\n",
        "\n",
        "| **True** | **False**    | **None**   | **and**   | **or**   | **not**    | **as**     | **break** | **continue** | **def**    | **del**   | \n",
        "|:--------:|:------------:|:----------:|:---------:|:--------:|:----------:|:----------:|:---------:|:------------:|:----------:|:---------:|\n",
        "|  **if**  | **else**     | **elif**   | **for**   | **from** | **import** | **in**     | **is**    | **lambda**   | **return** | **while** |\n",
        "| **with** | _nonlocal_   | _assert_   | _class_   | _pass_   | _raise_    | _global_   | _try_     | _except_     | _finally_  | _yield_   |\n",
        "\n",
        "\n"
      ]
    },
    {
      "cell_type": "markdown",
      "metadata": {
        "nteract": {
          "transient": {
            "deleting": false
          }
        },
        "id": "Q1S9miFsu2G7"
      },
      "source": [
        "### as\n",
        "\n",
        "`as` se utiliza para crear un _alias_ al importar una librería. Significa dar un nombre diferente, definido por el usuario, a un módulo al importarlo.\n",
        "\n",
        "<br>\n",
        "\n",
        "Por ejemplo, Python tiene un módulo estándar llamado `math`. Supongamos que queremos calcular el coseno de `pi` utilizando un alias. Podemos hacerlo de la siguiente manera usando `as`:"
      ]
    },
    {
      "cell_type": "markdown",
      "metadata": {
        "nteract": {
          "transient": {
            "deleting": false
          }
        },
        "id": "_CS00ML8u2HI"
      },
      "source": [
        "### from, import\n",
        "\n",
        "Estas palabras clave se usan para importar librerías y funciones de las librerías al _espacio de nombres_ actual.\n",
        "\n",
        "- `import` se utiliza para importar librerías. \n",
        "- `from <package> import <function>` se utiliza para importar atributos o funciones específicas sin tener que usar el nombre de la librería (o su _alias_, si este fue definido).\n",
        "- `from <package> import *` se utiliza para importar todos los atributos o funciones disponibles en una librería.\n"
      ]
    },
    {
      "cell_type": "code",
      "execution_count": null,
      "metadata": {
        "execution": {
          "iopub.execute_input": "2021-11-03T01:14:38.909Z",
          "iopub.status.busy": "2021-11-03T01:14:38.895Z",
          "iopub.status.idle": "2021-11-03T01:14:38.936Z",
          "shell.execute_reply": "2021-11-03T01:14:38.960Z"
        },
        "jupyter": {
          "outputs_hidden": false,
          "source_hidden": false
        },
        "nteract": {
          "transient": {
            "deleting": false
          }
        },
        "id": "RcihLAE1u2HJ"
      },
      "outputs": [],
      "source": [
        "import math as mt\n",
        "mt.cos(0)"
      ]
    },
    {
      "cell_type": "code",
      "execution_count": null,
      "metadata": {
        "execution": {
          "iopub.execute_input": "2021-11-03T01:14:40.119Z",
          "iopub.status.busy": "2021-11-03T01:14:40.101Z",
          "iopub.status.idle": "2021-11-03T01:14:40.150Z",
          "shell.execute_reply": "2021-11-03T01:14:40.173Z"
        },
        "jupyter": {
          "outputs_hidden": false,
          "source_hidden": false
        },
        "nteract": {
          "transient": {
            "deleting": false
          }
        },
        "id": "-R-bj252u2HJ"
      },
      "outputs": [],
      "source": [
        "from math import cos\n",
        "cos(0)"
      ]
    },
    {
      "cell_type": "code",
      "source": [
        "import keyword\n",
        "print(keyword.kwlist)"
      ],
      "metadata": {
        "id": "QtMaNI9l2BsX"
      },
      "execution_count": null,
      "outputs": []
    },
    {
      "cell_type": "markdown",
      "source": [
        "# I. Valores, Datos Simples y Operaciones"
      ],
      "metadata": {
        "id": "HtMeNG8wvvs1"
      }
    },
    {
      "cell_type": "markdown",
      "source": [
        "## Tipo de Datos Simples\n",
        "\n",
        "| Tipo de datos | palabra reservada |Ejemplo |\n",
        "| :- | -: | -: |\n",
        "| Enteros (Integers)| int | 88, 9 , -1, -3 |\n",
        "| Números Flotantes (Floating-point numbers)| float | -9.8, --19.0, 0.0 |\n",
        "| Caracter (Char) | chr |'H', 'a' |\n",
        "| Cadena de Texto (String) | str |'Hola Mundo', 'Bienvenido' |\n",
        "| Booleano (Boolean) | bool | True, False |"
      ],
      "metadata": {
        "id": "sOJT43JeaU-C"
      }
    },
    {
      "cell_type": "markdown",
      "source": [
        "## Operadores Matemáticos Básicos\n",
        "\n",
        "| Operadores | Descripción |\n",
        "| :- | -: |\n",
        "| ** | Exponente |\n",
        "| % | Resto |\n",
        "| // | División entera |\n",
        "| / | División |\n",
        "| * | Multiplicación |\n",
        "| - | Sustracción |\n",
        "| + | Suma |\n",
        "| ( ) | Agrupar Operaciones |\n",
        "| = | Asignación |"
      ],
      "metadata": {
        "id": "KfKg7sXiAgTU"
      }
    },
    {
      "cell_type": "code",
      "source": [
        "10 * (4 + 5) / 3"
      ],
      "metadata": {
        "id": "hA4uEH8XCtra"
      },
      "execution_count": null,
      "outputs": []
    },
    {
      "cell_type": "code",
      "source": [
        "9 % 2 + 2**3"
      ],
      "metadata": {
        "id": "2fgVIqSaD69i"
      },
      "execution_count": null,
      "outputs": []
    },
    {
      "cell_type": "code",
      "source": [
        "10 / 3 == 10 // 3"
      ],
      "metadata": {
        "id": "SI4TuWTKEHfS"
      },
      "execution_count": null,
      "outputs": []
    },
    {
      "cell_type": "markdown",
      "source": [
        "## Operadores Matemáticos Avanzadas\n",
        "\n",
        "| Operadores | Descripción |\n",
        "| :- | -: |\n",
        "| tan() | tangente |\n",
        "| factorial() | retorna el factorial de un número |\n",
        "|sqrt() | retorna la raíz cuadrada de un número |\n",
        "|ceil() | redondear hacia arriba un número |\n",
        "|... | ... |"
      ],
      "metadata": {
        "id": "wfUU4JChKnQS"
      }
    },
    {
      "cell_type": "code",
      "source": [
        "import math as mt\n",
        "mt.tan(90)"
      ],
      "metadata": {
        "id": "u7EwuXd9LOdc"
      },
      "execution_count": null,
      "outputs": []
    },
    {
      "cell_type": "code",
      "source": [
        "mt.factorial(3)"
      ],
      "metadata": {
        "id": "3ohuhEfDLR-M"
      },
      "execution_count": null,
      "outputs": []
    },
    {
      "cell_type": "code",
      "source": [
        "mt.sqrt(9)"
      ],
      "metadata": {
        "id": "tdkuo58fLXX8"
      },
      "execution_count": null,
      "outputs": []
    },
    {
      "cell_type": "markdown",
      "source": [
        "**Ejercicio 1.** Dado un año, devuelve el siglo en el que se encuentra. El primer siglo abarca desde el año 1 hasta el año 100 inclusive, el segundo, desde el año 101 hasta el año 200 inclusive.\n",
        "\n",
        "Ejemplo : año = 1905, la salida debería ser Siglo = 20.\n",
        "\n",
        "**Cual sería la fórmula matemática en Pyhton?**"
      ],
      "metadata": {
        "id": "ar5-e__Tmp9Q"
      }
    },
    {
      "cell_type": "code",
      "source": [
        "# código respuesta"
      ],
      "metadata": {
        "id": "FOHMOTu_nJLR"
      },
      "execution_count": null,
      "outputs": []
    },
    {
      "cell_type": "markdown",
      "metadata": {
        "nteract": {
          "transient": {
            "deleting": false
          }
        },
        "id": "zYljMUGVQEYZ"
      },
      "source": [
        "## Operadores condicionales\n",
        "\n",
        "| Operadores | Descripción |\n",
        "| :- | -: |\n",
        "| == | igualdad |\n",
        "| > | Mayor que |\n",
        "| >= | Mayor o igual a |\n",
        "| < | Menor que |\n",
        "| <= | Menor o igual a |\n",
        "| != | No es igual a |\n"
      ]
    },
    {
      "cell_type": "code",
      "source": [
        "7 >= 9"
      ],
      "metadata": {
        "id": "D2ueDnQxeiCF"
      },
      "execution_count": null,
      "outputs": []
    },
    {
      "cell_type": "code",
      "source": [
        "'Hola'!='Mundo'"
      ],
      "metadata": {
        "id": "ZdIdTu14e_mO"
      },
      "execution_count": null,
      "outputs": []
    },
    {
      "cell_type": "markdown",
      "source": [
        "## Variables de Python\n",
        "\n",
        "Una **variable** es una ubicación con nombre utilizada para almacenar datos en la memoria. \n",
        "\n",
        "- Es útil pensar en las **variables** como un contenedor que contiene datos que pueden ser cambiados más tarde en el programa. \n",
        "- Por ejemplo, `number = 10`. Aquí, hemos creado una **variable** llamada `number` y hemos asignado el valor `10` a ella.\n",
        "\n",
        "> **Nota 1:** En Python, en realidad no asignamos valores a las **variables**. En su lugar, Python da la referencia del objeto (valor) a la **variable**.\n",
        "\n",
        "> **Nota 2:** El nombre de las variables debe ser legible y entendible a la compresión humana.\n",
        "\n",
        "## Asignación de valores a las variables en Python\n",
        "\n",
        "Como se puede ver en el ejemplo anterior, utilizando el operador de asignación `=` se **asigna** un valor a una variable."
      ],
      "metadata": {
        "id": "PaiQNSlVglOt"
      }
    },
    {
      "cell_type": "code",
      "source": [
        "website = \"arauco.com\"\n",
        "print(website)\n",
        "\n",
        "suma = 1 + 2\n",
        "resta = 10 - suma\n",
        "print(resta)"
      ],
      "metadata": {
        "id": "h-NpeI0NhAvH"
      },
      "execution_count": null,
      "outputs": []
    },
    {
      "cell_type": "markdown",
      "source": [
        "## Asignación y operaciones aritméticas"
      ],
      "metadata": {
        "id": "DMrYNuwzuT41"
      }
    },
    {
      "cell_type": "code",
      "source": [
        "numero = 10\n",
        "\n",
        "numero += numero\n",
        "print(numero)\n",
        "\n",
        "numero -= 10\n",
        "print(numero)\n",
        "\n",
        "numero //= 2\n",
        "print(numero)"
      ],
      "metadata": {
        "id": "itZCRx8gucRT"
      },
      "execution_count": null,
      "outputs": []
    },
    {
      "cell_type": "markdown",
      "source": [
        "**Ejercicio 2**. Dados tres números calcula su suma y multiplicación\n",
        "\n",
        "a = 20, b = -34, c = 1"
      ],
      "metadata": {
        "id": "GabPicL2qQER"
      }
    },
    {
      "cell_type": "code",
      "source": [
        "# Respuesta"
      ],
      "metadata": {
        "id": "Bdx3jyZQqly7"
      },
      "execution_count": null,
      "outputs": []
    },
    {
      "cell_type": "markdown",
      "source": [
        "## Variable inferida\n",
        "\n",
        "Dado que la creación ocurre de forma implícita en la asignación, tampoco es necesario indicar el tipo de dato que contendrá el objeto pues es inferido por Python."
      ],
      "metadata": {
        "id": "u6uqT44K3UBE"
      }
    },
    {
      "cell_type": "code",
      "source": [
        "variable_A = \"Hola\"\n",
        "print(variable_A)\n",
        "\n",
        "variable_A = 100\n",
        "print(variable_A)"
      ],
      "metadata": {
        "id": "0jhufEYP34VU"
      },
      "execution_count": null,
      "outputs": []
    },
    {
      "cell_type": "markdown",
      "source": [
        "Si tenemos 10 asignaciones de diferentes tipos de datos en una sola variable como saber y controlar un error semántico."
      ],
      "metadata": {
        "id": "qtxX19B34LE8"
      }
    },
    {
      "cell_type": "code",
      "source": [
        "variable_A = 50\n",
        "print(type(variable_A))\n",
        "print(isinstance(variable_A, int))\n",
        "\n",
        "variable_A = 10.50\n",
        "print(type(variable_A))\n",
        "print(isinstance(variable_A, float))\n"
      ],
      "metadata": {
        "id": "aNA6Poxp4dOM"
      },
      "execution_count": null,
      "outputs": []
    },
    {
      "cell_type": "markdown",
      "source": [
        "## Concatenación y replicación\n",
        "\n",
        "Contatenación de cadenas:"
      ],
      "metadata": {
        "id": "iXrx8zJDjQTy"
      }
    },
    {
      "cell_type": "code",
      "source": [
        "saludos = \"Hola\"\n",
        "saludos = saludos + \" Mundo\"\n",
        "print(saludos)"
      ],
      "metadata": {
        "id": "DgiH7Ng6jZP6"
      },
      "execution_count": null,
      "outputs": []
    },
    {
      "cell_type": "markdown",
      "source": [
        "Replicación de cadenas:"
      ],
      "metadata": {
        "id": "sesNRBKajqwT"
      }
    },
    {
      "cell_type": "code",
      "source": [
        "saludos = \"Hola\"\n",
        "saludos = saludos * 10\n",
        "print(saludos)"
      ],
      "metadata": {
        "id": "bqbExLo7jvCy"
      },
      "execution_count": null,
      "outputs": []
    },
    {
      "cell_type": "markdown",
      "source": [
        "**Ejercicio 3.** Ejecute los siguientes pasos.\n",
        "\n",
        "* Asignar a la variable A  el valor 5\n",
        "* Sumar a la Variable A el valor 3\n",
        "* Imprimir si es True o False que la Variable A es mayor de 9\n",
        "* Asignar a la variable B el valor \"Inicio\"\n",
        "* Replique la variable B según el valor de A.\n",
        "* Imprimir la variable B"
      ],
      "metadata": {
        "id": "jhJ0e0ghrW8A"
      }
    },
    {
      "cell_type": "code",
      "source": [
        "# Respuesta Ejercicio 3"
      ],
      "metadata": {
        "id": "v2NrYUvjshMp"
      },
      "execution_count": null,
      "outputs": []
    },
    {
      "cell_type": "markdown",
      "metadata": {
        "nteract": {
          "transient": {
            "deleting": false
          }
        },
        "id": "7Ufylh9Nu2G3"
      },
      "source": [
        "## None\n",
        "\n",
        "`None` es una constante especial en Python que representa la ausencia de un valor o un valor nulo.\n",
        "\n",
        "- Es un objeto con su propio tipo de datos, este es _NoneType_. \n",
        "- Podemos asignarlo a variables. Estas variables serán iguales entre sí.\n",
        "- `None` no implica `False`, `0` ó cualquier objeto vacío (_lista_, _diccionario_, _tupla_, _string_, etc.).\n",
        "- Las funciones en las que el flujo del programa no encuentra una sentencia `return`, devolverán `None` como resultado."
      ]
    },
    {
      "cell_type": "code",
      "execution_count": null,
      "metadata": {
        "execution": {
          "iopub.execute_input": "2021-11-02T16:05:38.148Z",
          "iopub.status.busy": "2021-11-02T16:05:38.139Z",
          "iopub.status.idle": "2021-11-02T16:05:38.168Z",
          "shell.execute_reply": "2021-11-02T16:05:38.182Z"
        },
        "jupyter": {
          "outputs_hidden": false,
          "source_hidden": false
        },
        "nteract": {
          "transient": {
            "deleting": false
          }
        },
        "id": "hm8OxsqQu2G4"
      },
      "outputs": [],
      "source": [
        "type(None)"
      ]
    },
    {
      "cell_type": "code",
      "execution_count": null,
      "metadata": {
        "execution": {
          "iopub.execute_input": "2021-11-02T16:06:05.116Z",
          "iopub.status.busy": "2021-11-02T16:06:05.108Z",
          "iopub.status.idle": "2021-11-02T16:06:05.136Z",
          "shell.execute_reply": "2021-11-02T16:06:05.148Z"
        },
        "jupyter": {
          "outputs_hidden": false,
          "source_hidden": false
        },
        "nteract": {
          "transient": {
            "deleting": false
          }
        },
        "id": "Qrh_DMHWu2G4"
      },
      "outputs": [],
      "source": [
        "x = None\n",
        "y = None\n",
        "x == y"
      ]
    },
    {
      "cell_type": "markdown",
      "metadata": {
        "nteract": {
          "transient": {
            "deleting": false
          }
        },
        "id": "sPsHe7N3u2G6"
      },
      "source": [
        "## Operadores lógicos (and, or, not)\n",
        "\n",
        "Son los operadores lógicos en Python. \n",
        "\n",
        "<br>\n",
        "\n",
        "- `and` resultará en `True` sólo si ambos operandos son `True`. La tabla de verdad para `and` se da a continuación:\n",
        "\n",
        "<br>\n",
        "\n",
        "| A     | B     | A and B |\n",
        "|:------|:------|:--------|\n",
        "| True  | True  | True    |\n",
        "| True  | False | False   |\n",
        "| False | True  | False   |\n",
        "| False | False | False   |\n",
        "\n",
        "<br>\n",
        "\n",
        "- `or` dará como resultado `True` si alguno de los operandos es `True`. La tabla de verdad para `or` se da a continuación:\n",
        "\n",
        "<br>\n",
        "\n",
        "| A     | B     | A or B |\n",
        "|:------|:------|:-------|\n",
        "| True  | True  | True   |\n",
        "| True  | False | True   |\n",
        "| False | True  | True   |\n",
        "| False | False | False  |\n",
        "\n",
        "<br>\n",
        "\n",
        "- El operador `not` se utiliza para invertir el valor lógico. La tabla de verdad para `not` se da a continuación:\n",
        "\n",
        "<br>\n",
        "\n",
        "| A     | not A |\n",
        "|:------|:------|\n",
        "| True  | False |\n",
        "| False | True  |\n",
        "\n",
        "\n",
        "\n"
      ]
    },
    {
      "cell_type": "code",
      "execution_count": null,
      "metadata": {
        "execution": {
          "iopub.execute_input": "2021-11-02T16:47:27.955Z",
          "iopub.status.busy": "2021-11-02T16:47:27.944Z",
          "iopub.status.idle": "2021-11-02T16:47:27.978Z",
          "shell.execute_reply": "2021-11-02T16:47:27.995Z"
        },
        "jupyter": {
          "outputs_hidden": false,
          "source_hidden": false
        },
        "nteract": {
          "transient": {
            "deleting": false
          }
        },
        "id": "BKBg8hOYu2G7"
      },
      "outputs": [],
      "source": [
        "variable_A = True\n",
        "variable_B = False\n",
        "print(variable_A and variable_B)"
      ]
    },
    {
      "cell_type": "code",
      "execution_count": null,
      "metadata": {
        "execution": {
          "iopub.execute_input": "2021-11-02T16:47:38.785Z",
          "iopub.status.busy": "2021-11-02T16:47:38.771Z",
          "iopub.status.idle": "2021-11-02T16:47:38.810Z",
          "shell.execute_reply": "2021-11-02T16:47:38.836Z"
        },
        "jupyter": {
          "outputs_hidden": false,
          "source_hidden": false
        },
        "nteract": {
          "transient": {
            "deleting": false
          }
        },
        "id": "DhuwVGuru2G7"
      },
      "outputs": [],
      "source": [
        "print(variable_A or variable_B)"
      ]
    },
    {
      "cell_type": "code",
      "execution_count": null,
      "metadata": {
        "execution": {
          "iopub.execute_input": "2021-11-02T16:47:45.332Z",
          "iopub.status.busy": "2021-11-02T16:47:45.320Z",
          "iopub.status.idle": "2021-11-02T16:47:45.358Z",
          "shell.execute_reply": "2021-11-02T16:47:45.375Z"
        },
        "jupyter": {
          "outputs_hidden": false,
          "source_hidden": false
        },
        "nteract": {
          "transient": {
            "deleting": false
          }
        },
        "id": "e0zhl6Geu2G7"
      },
      "outputs": [],
      "source": [
        "print(not variable_B)"
      ]
    },
    {
      "cell_type": "markdown",
      "source": [
        "**Ejercicio 4**. Dados tres números verifique si son divisible por 2, 4 y 6.\n",
        " "
      ],
      "metadata": {
        "id": "Z1zdG2YQtwtq"
      }
    },
    {
      "cell_type": "code",
      "source": [
        "# Respuesta del ejercicio 4"
      ],
      "metadata": {
        "id": "IfRcgvJWt-kH"
      },
      "execution_count": null,
      "outputs": []
    },
    {
      "cell_type": "markdown",
      "source": [
        "## Las funciones str(), int() y float()\n",
        "\n",
        "Estas funciones le permiten cambiar el tipo de variable. Por ejemplo, puede transformar de un integer ofloat a un string:"
      ],
      "metadata": {
        "id": "JAPh7a535w9M"
      }
    },
    {
      "cell_type": "code",
      "source": [
        "variable_A = str(10)\n",
        "print(isinstance(variable_A, str))\n",
        "\n",
        "variable_B = 10.0\n",
        "variable_B = int(variable_B)\n",
        "print(variable_B)\n",
        "\n",
        "variable_A = float(variable_A)\n",
        "print(isinstance(variable_A, str))"
      ],
      "metadata": {
        "id": "hVn-HuNa5Apj"
      },
      "execution_count": null,
      "outputs": []
    },
    {
      "cell_type": "markdown",
      "source": [
        "# II. Bifurcaciones\n",
        "\n"
      ],
      "metadata": {
        "id": "vG3ozjlnrpOF"
      }
    },
    {
      "cell_type": "markdown",
      "metadata": {
        "nteract": {
          "transient": {
            "deleting": false
          }
        },
        "id": "kvX5znLKu2HE"
      },
      "source": [
        "## Declaración if en Python\n",
        "\n",
        "La sintaxis de la instrucción `if` en Python es muy simple. \n",
        "\n",
        "<br>\n",
        "\n",
        "```python\n",
        ">>> if <expression>:\n",
        "        <statement(s)>\n",
        "```\n",
        "\n",
        "<br>\n",
        "\n",
        "- Requiere de la _palabra clave_ `if` junto con una **expresión** que se evalúa `True` o `False`.\n",
        "- Si la **expresión de prueba** es `True`, entonces una tercera componente, llamada _declaración(es)_, se ejecutará(n). \n",
        "- Si la **expresión de prueba** es `False`, la(s) _declaración(es)_ no se ejecuta(n).\n",
        "- En Python, el cuerpo de la instrucción `if` está indicado por la sangría y la primera línea sin sangría marca el final.\n"
      ]
    },
    {
      "cell_type": "code",
      "execution_count": null,
      "metadata": {
        "id": "ZTME1zLqu2HF"
      },
      "outputs": [],
      "source": [
        "numero = int(input(\"Ingrese un número = \"))\n",
        "\n",
        "if numero % 2 == 0:\n",
        "  print(\"Es un número par\")"
      ]
    },
    {
      "cell_type": "markdown",
      "source": [
        "**Ejercicio 5**. Determinar si un alumno aprueba o reprueba un curso, sabiendo que aprobará si su promedio de tres calificaciones es mayor o igual a 70; reprueba en caso contrario."
      ],
      "metadata": {
        "id": "ycpefolt89_d"
      }
    },
    {
      "cell_type": "code",
      "source": [
        "# respuesta del ejercicio 5"
      ],
      "metadata": {
        "id": "Hz2QA7ya9PTP"
      },
      "execution_count": null,
      "outputs": []
    },
    {
      "cell_type": "markdown",
      "metadata": {
        "id": "REPgp6jLu2HF"
      },
      "source": [
        "## Declaración if ... else en Python\n",
        "\n",
        "La sintaxis de la instrucción `if ... else` en Python (también) es muy simple. \n",
        "\n",
        "<br>\n",
        "\n",
        "```python\n",
        ">>> if <expression>:\n",
        "        <statement(s)>\n",
        "    \n",
        "    else:\n",
        "        <statement(s)>\n",
        "```\n",
        "\n",
        "<br>\n",
        "\n",
        "- Permite verificar dos condiciones.\n",
        "- Se le agrega un bloque `else` a la construcción de la instrucción `if`.\n",
        "- La instrucción `if ... else` evalúa la _expresión_ y ejecutará el cuerpo de `if` solo cuando la condición de prueba sea `True`.\n",
        "- Si la condición es `False`, se ejecuta el cuerpo de `else`. Este bloque no requiere de una _expresión de prueba_.\n",
        "- La sangría se utiliza para separar los bloques.\n",
        "\n"
      ]
    },
    {
      "cell_type": "code",
      "execution_count": null,
      "metadata": {
        "id": "1Tx4mwhsu2HG"
      },
      "outputs": [],
      "source": [
        "numero = -3\n",
        "if numero >= 0:\n",
        "    print(\"Positivo o cero\")\n",
        "else:\n",
        "    print(\"Número negativo\")"
      ]
    },
    {
      "cell_type": "markdown",
      "source": [
        "**Ejercicio 6**. Hacer un algoritmo que lea dos números y los imprima en orden ascendente."
      ],
      "metadata": {
        "id": "Ch3qX45i9XZE"
      }
    },
    {
      "cell_type": "code",
      "source": [
        "# respuesta ejercicio 6"
      ],
      "metadata": {
        "id": "i3VUG4t89WnM"
      },
      "execution_count": null,
      "outputs": []
    },
    {
      "cell_type": "markdown",
      "metadata": {
        "execution": {
          "iopub.execute_input": "2021-11-03T01:03:40.745Z",
          "iopub.status.busy": "2021-11-03T01:03:40.729Z",
          "iopub.status.idle": "2021-11-03T01:03:40.777Z",
          "shell.execute_reply": "2021-11-03T01:03:40.793Z"
        },
        "jupyter": {
          "outputs_hidden": false,
          "source_hidden": false
        },
        "nteract": {
          "transient": {
            "deleting": false
          }
        },
        "id": "hAfAuMQ7u2HG"
      },
      "source": [
        "## Declaración if ... elif ... else en Python\n",
        "\n",
        "La sintaxis de la instrucción `if ... elif ... else` en Python (también) es muy simple. \n",
        "\n",
        "<br>\n",
        "\n",
        "```python\n",
        ">>> if <test expression 1>:\n",
        "        <statement(s)>\n",
        "    \n",
        "    elif <test expression 2>:\n",
        "        <statement(s)>\n",
        "    \n",
        "    elif <test expression 3>:\n",
        "        <statement(s)>\n",
        "    \n",
        "    else:\n",
        "        <statement(s)>\n",
        "```\n",
        "\n",
        "<br>\n",
        "\n",
        "- Permite verificar múltiples condiciones.\n",
        "- Se le agrega uno o varios bloques intermedios `elif` a la construcción de la instrucción `if ... else`.\n",
        "- Si la condición de `if` es `False`, verifica la condición del siguiente bloque `elif` y así sucesivamente.\n",
        "- Si todas las condiciones son `False`, se ejecuta el cuerpo de `else`.\n",
        "- Sólo un bloque entre los varios bloques `if ... elif ... else` se ejecuta de acuerdo con la condición.\n",
        "- El bloque `if` solo puede tener un bloque `else`. Pero puede tener varios bloques `elif`.\n"
      ]
    },
    {
      "cell_type": "code",
      "execution_count": null,
      "metadata": {
        "id": "llMJQmi5u2HG"
      },
      "outputs": [],
      "source": [
        "num = -3.4\n",
        "if num > 0:\n",
        "    print(\"Número Positivo\")\n",
        "    \n",
        "elif num == 0:\n",
        "    print(\"Cero\")\n",
        "    \n",
        "else:\n",
        "    print(\"Número negativo\")"
      ]
    },
    {
      "cell_type": "markdown",
      "source": [
        "**Ejercicio 7**. Hacer un algoritmo que lea una variable y determine si es: texto, número entero, número decimal. No utilizar la entrada input, solo declare el valor de una variable."
      ],
      "metadata": {
        "id": "ro7TrFLp9vbs"
      }
    },
    {
      "cell_type": "code",
      "source": [
        "# respuesta ejercicio 7"
      ],
      "metadata": {
        "id": "NQNd8kEe-HZ1"
      },
      "execution_count": null,
      "outputs": []
    },
    {
      "cell_type": "markdown",
      "metadata": {
        "id": "yVQWgKzuu2HG"
      },
      "source": [
        "## Declaraciones if anidadas en Python\n",
        "\n",
        "Podemos tener una declaración `if ... elif ... else`  dentro de otra declaración `if ... elif ... else`.\n",
        "\n",
        "- A esto se le llama **anidamiento**.\n",
        "- Cualquier número de estas declaraciones se puede anidar una dentro de la otra. \n",
        "- La sangría es la única forma de determinar el nivel de anidamiento. \n",
        "- Pueden resultar confusos, por lo que deben evitarse a menos que sea necesario.\n"
      ]
    },
    {
      "cell_type": "code",
      "execution_count": null,
      "metadata": {
        "id": "WhU8zZPRu2HG"
      },
      "outputs": [],
      "source": [
        "num = 3.4\n",
        "if num >= 0:\n",
        "    if num == 0:\n",
        "        print(\"Cero\")\n",
        "    else:\n",
        "        print(\"Número Positivo\")\n",
        "else:\n",
        "    print(\"Número negativo\")"
      ]
    },
    {
      "cell_type": "markdown",
      "source": [
        "**Ejercicio 8** Recibe una variable y realice las siguientes verificaciones: \n",
        "\n",
        "* No Usar la entrada input para asignar el valor de la variable.\n",
        "* Imprimir '1' si es un entero.\n",
        "* Si es una cadena de texto imprimir '2' y luego compruebe si esa cadena de texto puede ser un número entero e imprima '3'.\n",
        "* En caso contrario imprimir '4' "
      ],
      "metadata": {
        "id": "QcmGl9Ip-NYl"
      }
    },
    {
      "cell_type": "code",
      "source": [
        "# Respuesta ejercicio 8"
      ],
      "metadata": {
        "id": "6pnjwabT-MNV"
      },
      "execution_count": null,
      "outputs": []
    },
    {
      "cell_type": "markdown",
      "source": [
        "## Mezcla de operadores booleanos y de comparación"
      ],
      "metadata": {
        "id": "tXZM7gqPp0nO"
      }
    },
    {
      "cell_type": "code",
      "source": [
        "A = 1\n",
        "B = 3\n",
        "C = 4\n",
        "\n",
        "if (A + B) == C and C - B > 0:\n",
        "  print(\"OK\")\n",
        "\n",
        "else:\n",
        "  print(\"No OK\")"
      ],
      "metadata": {
        "id": "ywmL84wKp4Am"
      },
      "execution_count": null,
      "outputs": []
    },
    {
      "cell_type": "markdown",
      "source": [
        "## Operador condicional ternario\n",
        "\n",
        "El operador ternario define una expresión condicional, importante saber que no es una bifurcación sino un operador.\n",
        "\n",
        "Este operador evalúa la primera expresión si la condición es True y, de lo contrario, evalúa la segunda expresión.\n",
        "\n",
        "Su sintaxis es `<expresión1> if <condición> else <expresión2>`\n",
        "\n",
        "A continuación un ejemplo con un if - else y otro similar con un operador ternario"
      ],
      "metadata": {
        "id": "gOkdilKkqeJV"
      }
    },
    {
      "cell_type": "code",
      "source": [
        "nombre = input(\"Ingresar un nombre: \")\n",
        "valor = ''\n",
        "\n",
        "if nombre == 'Daniel':\n",
        "  valor = nombre\n",
        "else:\n",
        "  valor = 'No se encuentra'\n",
        "\n",
        "print(valor)"
      ],
      "metadata": {
        "id": "TwpBLPZIrb-l"
      },
      "execution_count": null,
      "outputs": []
    },
    {
      "cell_type": "code",
      "source": [
        "nombre = input(\"Ingresar un nombre: \")\n",
        "\n",
        "valor = 'Daniel' if nombre == 'Daniel' else 'No se encuentra'\n",
        "\n",
        "print(valor)"
      ],
      "metadata": {
        "id": "pcUylnH6sGBD"
      },
      "execution_count": null,
      "outputs": []
    },
    {
      "cell_type": "markdown",
      "source": [
        "**¿Cual es la diferencia entre operador condicional ternario y bifurcación?**\n",
        "\n",
        "La diferencia es que una bifuración puede tomar un camino donde se pueden realizar varias líneas de código en un bloque, mientras que una operador ternario es una operación simple que devuelve un valor.\n",
        "\n",
        "Ejemplo de un algoritmo que no puede ser un operador ternario:"
      ],
      "metadata": {
        "id": "oDAt0HnNsgli"
      }
    },
    {
      "cell_type": "code",
      "source": [
        "edad = 30\n",
        "nombre = \"Daniela\"\n",
        "\n",
        "if edad == 30 and nombre == \"Daniela\":\n",
        "  print(nombre + \" es joven\")\n",
        "  edad+= 30\n",
        "else:\n",
        "  print(\"no es Daniela\")"
      ],
      "metadata": {
        "id": "3EoDlrzmtrU6"
      },
      "execution_count": null,
      "outputs": []
    },
    {
      "cell_type": "markdown",
      "source": [
        "**Ejercicio 9** Calcular el número de pulsaciones que una persona debe tener por cada 10 segundos de ejercicio aeróbico; la fórmula que se aplica cuando el sexo es femenino es: (220-edad)/10; si el sexo es masculino es: (210-edad)/10.\n"
      ],
      "metadata": {
        "id": "P12RF5VlD2Jl"
      }
    },
    {
      "cell_type": "code",
      "source": [
        "# Respuesta ejercicio 9"
      ],
      "metadata": {
        "id": "Efc__u0kETgg"
      },
      "execution_count": null,
      "outputs": []
    },
    {
      "cell_type": "markdown",
      "source": [
        "# III. Ciclos y Bucles"
      ],
      "metadata": {
        "id": "3CGTi75rxO_e"
      }
    },
    {
      "cell_type": "markdown",
      "source": [
        "## len()\n",
        "\n",
        "\n",
        "\n",
        "``` len ``` se utiliza la medir la longitud de una variable.\n",
        "\n"
      ],
      "metadata": {
        "id": "KnjMFwQhG7se"
      }
    },
    {
      "cell_type": "code",
      "source": [
        "saludos = \"Hola mundo\"\n",
        "len(saludos)"
      ],
      "metadata": {
        "id": "Sie1RQTBHO1G"
      },
      "execution_count": null,
      "outputs": []
    },
    {
      "cell_type": "markdown",
      "metadata": {
        "nteract": {
          "transient": {
            "deleting": false
          }
        },
        "id": "ZWBeLvuqu2HG"
      },
      "source": [
        "## for\n",
        "\n",
        "#### Declaración for en Python\n",
        "\n",
        "`for` se utiliza para hacer un bucle. Su sintaxis en como se muestra a continuación:\n",
        "\n",
        "<br>\n",
        "\n",
        "```python\n",
        ">>> for val in sequence:\n",
        "        <body loop>\n",
        "```\n",
        "\n",
        "<br>\n",
        "\n",
        "- `val` es la _variable_ que toma el valor del elemento dentro de la secuencia en cada iteración.\n",
        "- Se usa para iterar sobre una secuencia u otros objetos iterables. \n",
        "- La iteración sobre una secuencia se denomina recorrido.\n",
        "- Generalmente usamos `for` cuando sabemos el número de veces que queremos hacer el bucle.\n",
        "- El bucle continúa hasta que llegamos al último elemento de la secuencia. \n",
        "- El cuerpo del bucle for se separa del resto del código mediante sangría.\n",
        "\n"
      ]
    },
    {
      "cell_type": "code",
      "execution_count": null,
      "metadata": {
        "id": "DD6YrJ-hu2HH"
      },
      "outputs": [],
      "source": [
        "for letra in \"hola\":\n",
        "  if letra != 'l':\n",
        "    print(letra)"
      ]
    },
    {
      "cell_type": "markdown",
      "source": [
        "**Ejercicio 10** Escriba un algoritmo que me imprima cuantas vocales contiene una oración."
      ],
      "metadata": {
        "id": "l3FXJItMFTA4"
      }
    },
    {
      "cell_type": "code",
      "source": [
        "# respuesta ejercicio 10"
      ],
      "metadata": {
        "id": "EdDFUcJqFmYH"
      },
      "execution_count": null,
      "outputs": []
    },
    {
      "cell_type": "markdown",
      "metadata": {
        "id": "Acs9vQ2Ru2HH"
      },
      "source": [
        "## Usando la función range() en Python\n",
        "\n",
        "Podemos generar una secuencia de números usando la función `range(start, stop, step_size)`. \n",
        "\n",
        "- Podemos usar la función `range()` en bucles `for` para iterar a través de una secuencia de números.\n",
        "\n"
      ]
    },
    {
      "cell_type": "code",
      "source": [
        "for valor in range(0, 10):\n",
        "  print(valor)"
      ],
      "metadata": {
        "id": "UClfPTlgwNPQ"
      },
      "execution_count": null,
      "outputs": []
    },
    {
      "cell_type": "code",
      "source": [
        "suma = 1\n",
        "for val in range(10):\n",
        "  suma+= val\n",
        "print(suma)"
      ],
      "metadata": {
        "id": "rkiAu69hwvAp"
      },
      "execution_count": null,
      "outputs": []
    },
    {
      "cell_type": "code",
      "source": [
        "for valor in range(3, 10):\n",
        "  print(valor)"
      ],
      "metadata": {
        "id": "iCPnySWCwxxp"
      },
      "execution_count": null,
      "outputs": []
    },
    {
      "cell_type": "code",
      "source": [
        "for valor in range(1, 10, 2):\n",
        "  print(valor)"
      ],
      "metadata": {
        "id": "lNNJ3jrBx_-h"
      },
      "execution_count": null,
      "outputs": []
    },
    {
      "cell_type": "code",
      "source": [
        "for valor in range(10, 0, -1):\n",
        "  print(valor)"
      ],
      "metadata": {
        "id": "Uw-Q04VBdhJi"
      },
      "execution_count": null,
      "outputs": []
    },
    {
      "cell_type": "markdown",
      "source": [
        "**Ejercicios 11.** Dado una cadena de texto verifica si es un palíndromo.\n",
        "\n",
        "Ejemplo\n",
        "* inputString = \"aabaa\", la salida es true;\n",
        "*\tinputString = \"abac\", la salida es false;\n",
        "*\tinputString = \"a\", la salida es true"
      ],
      "metadata": {
        "id": "pzgWtWqxFye2"
      }
    },
    {
      "cell_type": "code",
      "source": [
        "# Respuesta ejercicio 11\n"
      ],
      "metadata": {
        "id": "AgvCGQYVdpRZ"
      },
      "execution_count": null,
      "outputs": []
    },
    {
      "cell_type": "markdown",
      "metadata": {
        "nteract": {
          "transient": {
            "deleting": false
          }
        },
        "id": "EeNr51mCu2HN"
      },
      "source": [
        "## while\n",
        "\n",
        "#### Declaración while en Python\n",
        "\n",
        "`while` se utiliza para hacer bucles en Python. Su sintaxis en como se muestra a continuación:\n",
        "\n",
        "<br>\n",
        "\n",
        "```python\n",
        ">>> while test_expression:\n",
        "       <body loop>\n",
        "```\n",
        "\n",
        "<br>\n",
        "\n",
        "- En el ciclo `while`, la expresión de prueba se comprueba primero. \n",
        "- El cuerpo del bucle se ingresa solo si expresión de prueba se evalúa como `True`. \n",
        "- Después de una iteración, se vuelve a comprobar la expresión de prueba. Este proceso continúa hasta que expresión de prueba se evalúa como `False` o se encuentra una sentencia `break`. \n",
        "- Generalmente usamos este ciclo cuando no sabemos la cantidad de veces que debemos iterar de antemano.\n",
        "- En Python, el cuerpo del bucle `while` se determina mediante sangría.\n",
        "- Python interpreta cualquier valor distinto de cero como `True`. `None` y `0` se interpretan como `False`.\n"
      ]
    },
    {
      "cell_type": "code",
      "execution_count": null,
      "metadata": {
        "execution": {
          "iopub.execute_input": "2021-11-03T01:49:47.813Z",
          "iopub.status.busy": "2021-11-03T01:49:47.794Z",
          "iopub.status.idle": "2021-11-03T01:49:47.849Z",
          "shell.execute_reply": "2021-11-03T01:49:47.879Z"
        },
        "jupyter": {
          "outputs_hidden": false,
          "source_hidden": false
        },
        "nteract": {
          "transient": {
            "deleting": false
          }
        },
        "id": "IDMshH4Gu2HN"
      },
      "outputs": [],
      "source": [
        "indice = 5\n",
        "while(indice):\n",
        "    print(indice)\n",
        "    indice = indice - 1"
      ]
    },
    {
      "cell_type": "code",
      "execution_count": null,
      "metadata": {
        "id": "pTL-LCNuu2HO"
      },
      "outputs": [],
      "source": [
        "numero = 10\n",
        "suma = 0\n",
        "indice = 1\n",
        "\n",
        "while indice <= numero:\n",
        "    suma = suma + indice\n",
        "    indice = indice + 1\n",
        "\n",
        "print(\"La suma total es\", suma)"
      ]
    },
    {
      "cell_type": "markdown",
      "source": [
        "**Ejercicio 12.** Implemente un algoritmo que imprima la secuencia de la sucesión de Fibonacci. $$a_n = a_n-2 + a_n-1, n >= 1 $$\n",
        "\n",
        "Ejemplo: \n",
        "\n",
        "* input: n = 6\n",
        "* output: 1, 1, 2, 3, 5, 8\n"
      ],
      "metadata": {
        "id": "cJ-HcIdHIgum"
      }
    },
    {
      "cell_type": "code",
      "source": [
        "# respuesta 12"
      ],
      "metadata": {
        "id": "J7rtanC2I2rF"
      },
      "execution_count": null,
      "outputs": []
    },
    {
      "cell_type": "markdown",
      "metadata": {
        "nteract": {
          "transient": {
            "deleting": false
          }
        },
        "id": "Vnq8cslzu2G7"
      },
      "source": [
        "## break, continue, pass\n",
        "\n",
        "`break` y `continue` se utilizan dentro de los bucles `for` y `while` para alterar su comportamiento normal.\n",
        "\n",
        "- Los bucles iteran sobre un bloque de código hasta que la expresión de prueba es `False`, pero a veces deseamos terminar la iteración actual o incluso todo el bucle sin verificar la expresión de prueba.\n",
        "- Las declaraciones `break` y `continue` se utilizan en estos casos.\n",
        "- `break` termina el ciclo que la contiene. El control del programa fluye a la declaración inmediatamente después del cuerpo del bucle. \n",
        "- Si la instrucción `break` está dentro de un bucle anidado (bucle dentro de otro bucle), la declaración break terminará el bucle más interno.\n",
        "- `continue` se usa para omitir el resto del código dentro de un bucle solo para la iteración actual. El bucle no termina sino que continúa con la siguiente iteración.\n",
        "- `pass` es una operación nula; no pasa nada cuando se ejecuta.\n"
      ]
    },
    {
      "cell_type": "code",
      "execution_count": null,
      "metadata": {
        "execution": {
          "iopub.execute_input": "2021-11-02T17:53:17.293Z",
          "iopub.status.busy": "2021-11-02T17:53:17.278Z",
          "iopub.status.idle": "2021-11-02T17:53:17.335Z",
          "shell.execute_reply": "2021-11-02T17:53:17.363Z"
        },
        "jupyter": {
          "outputs_hidden": false,
          "source_hidden": false
        },
        "nteract": {
          "transient": {
            "deleting": false
          }
        },
        "id": "FeFhRPZ5u2G8"
      },
      "outputs": [],
      "source": [
        "for numero in range(1,11):\n",
        "    if numero == 5:\n",
        "        break\n",
        "    print(numero)"
      ]
    },
    {
      "cell_type": "code",
      "execution_count": null,
      "metadata": {
        "execution": {
          "iopub.execute_input": "2021-11-02T17:53:32.262Z",
          "iopub.status.busy": "2021-11-02T17:53:32.248Z",
          "iopub.status.idle": "2021-11-02T17:53:32.296Z",
          "shell.execute_reply": "2021-11-02T17:53:32.310Z"
        },
        "jupyter": {
          "outputs_hidden": false,
          "source_hidden": false
        },
        "nteract": {
          "transient": {
            "deleting": false
          }
        },
        "id": "vZk37ZJUu2G8"
      },
      "outputs": [],
      "source": [
        "for numero in range(1,11):\n",
        "    if numero == 5:\n",
        "        continue\n",
        "    print(numero)"
      ]
    },
    {
      "cell_type": "code",
      "source": [
        "numero = 1\n",
        "while True:\n",
        "  numero+=4\n",
        "  if numero > 50:\n",
        "    break\n",
        "\n",
        "print(numero)"
      ],
      "metadata": {
        "id": "KqXxP8oz0YdQ"
      },
      "execution_count": null,
      "outputs": []
    },
    {
      "cell_type": "code",
      "source": [
        "for numero in range(0,11):\n",
        "    if numero % 2:\n",
        "        pass\n",
        "        print(\"Es par\")\n",
        "        print(numero)"
      ],
      "metadata": {
        "id": "t7Qt0LoyMJH9"
      },
      "execution_count": null,
      "outputs": []
    },
    {
      "cell_type": "markdown",
      "source": [
        "# IV. Funciones\n",
        "\n",
        "##Comentarios\n",
        "\n",
        "Los comentarios son muy importantes al escribir un programa. Describen lo que sucede, de modo que una persona que mire el código fuente no tenga dificultades para entenderlo.\n",
        "\n",
        "Es posible que dentro de un mes olvidemos los detalles clave del programa que acabamos de escribir. Así que tomarse el tiempo de explicar estos conceptos en forma de comentarios es siempre una muy buena práctica!\n",
        "En Python, utilizamos el símbolo hash (#) para empezar a escribir un comentario, y este se extiende hasta el carácter de nueva línea.\n",
        "Los comentarios son para que los programadores entiendan mejor un programa. El intérprete de Python los ignora."
      ],
      "metadata": {
        "id": "h3RQD_dtxSPd"
      }
    },
    {
      "cell_type": "code",
      "source": [
        "a = 1  # initialization\n",
        "\n",
        "\"\"\"\n",
        "    This is a function docstring\n",
        "    You can also use:\n",
        "    ''' Function Docstring '''\n",
        "    \"\"\""
      ],
      "metadata": {
        "id": "Y05-r5Fqnd9a"
      },
      "execution_count": null,
      "outputs": []
    },
    {
      "cell_type": "markdown",
      "source": [
        "## Tipos de funciones\n",
        "\n",
        "Básicamente, podemos dividir las funciones en los siguientes dos tipos:\n",
        "\n",
        "- [**Funciones integradas**](https://docs.python.org/3/library/functions.html). Son las funciones que vienen integradas en Python.\n",
        "- **Funciones definidas por el usuario**. Son las funciones definidas por los propios usuarios. A su vez, este tipo de funciones puede dividirse en dos subcategorías:\n",
        "\n",
        "    - **Funciones nombradas**. Corresponden a las que hemos definido hasta ahora, y su característica es que el usuario le asigna un nombre cuando la crea mediante el uso de la palabra clave `def`.\n",
        "    - **Funciones anónimas**. Corresponden a funciones definidas sin un nombre, y se crean usando la palara clave `lambda`.\n",
        "\n",
        "<br>"
      ],
      "metadata": {
        "id": "MKhDKm4sCXRr"
      }
    },
    {
      "cell_type": "markdown",
      "metadata": {
        "id": "btiG1xBfu2G9"
      },
      "source": [
        "## Funciones nombradas en Python\n",
        "\n",
        "En Python, una **función** es un grupo de declaraciones relacionadas que realiza una tarea específica.\n",
        "\n",
        "- Las **funciones** ayudan a dividir nuestro programa en partes más pequeñas y modulares.\n",
        "- A medida que nuestro programa crece, las **funciones** lo hacen más organizado y manejable.\n",
        "- Además, utilizar **funciones** evita la repetición y hace que el código sea reutilizable.\n",
        "- Las **funciones** constan de los siguientes componentes:\n",
        "\n",
        "    - Palabra clave `def` que marca el inicio del encabezado de la función.\n",
        "    - Un nombre de función para identificar de forma exclusiva la función.\n",
        "    - Parámetros (argumentos) a través de los cuales pasamos valores a una función. Son opcionales.\n",
        "    - Dos puntos (`:`) para marcar el final del encabezado de la función.\n",
        "    - Cadena de documentación opcional (_docstring_) para describir lo que hace la función.\n",
        "    - Una o más declaraciones de Python válidas que componen el cuerpo de la función. Las declaraciones deben tener el mismo nivel de sangría (normalmente 4 espacios).\n",
        "    - Una declaración `return` opcional para devolver un valor de la función.\n",
        "\n"
      ]
    },
    {
      "cell_type": "markdown",
      "metadata": {
        "nteract": {
          "transient": {
            "deleting": false
          }
        },
        "id": "lcPdxgj4u2G8"
      },
      "source": [
        "## def\n",
        "\n",
        "`def` se utiliza para definir una _función_ nombrada por el usuario."
      ]
    },
    {
      "cell_type": "code",
      "execution_count": null,
      "metadata": {
        "execution": {
          "iopub.execute_input": "2021-11-03T05:08:03.003Z",
          "iopub.status.busy": "2021-11-03T05:08:02.973Z",
          "iopub.status.idle": "2021-11-03T05:08:03.038Z",
          "shell.execute_reply": "2021-11-03T05:08:03.057Z"
        },
        "jupyter": {
          "outputs_hidden": false,
          "source_hidden": false
        },
        "nteract": {
          "transient": {
            "deleting": false
          }
        },
        "id": "u5StLpJyu2G8"
      },
      "outputs": [],
      "source": [
        "def my_function(parameter_1, parameter_2):\n",
        "    print('Esta es mi función, que imprime', parameter_1, parameter_2)\n",
        "\n",
        "my_function('hola', 'mundo')"
      ]
    },
    {
      "cell_type": "markdown",
      "metadata": {
        "nteract": {
          "transient": {
            "deleting": false
          }
        },
        "id": "n0KQ91Zxu2HM"
      },
      "source": [
        "## return\n",
        "\n",
        "La sentencia `return` se utiliza dentro de una función para salir de ella y devolver un valor.\n",
        "\n",
        "- Si no devolvemos un valor explícitamente, se devuelve automáticamente `None`. \n",
        "\n"
      ]
    },
    {
      "cell_type": "code",
      "source": [
        "def nombre_completo (nombre, apellidos):\n",
        "  return \"mi nombre es \" + nombre + \" \" + apellidos\n",
        "\n",
        "resultado = nombre_completo(\"Luisa\", \"Romero\")\n",
        "\n",
        "print(nombre)"
      ],
      "metadata": {
        "id": "88I0cQhWCvln"
      },
      "execution_count": null,
      "outputs": []
    },
    {
      "cell_type": "code",
      "execution_count": null,
      "metadata": {
        "id": "OKkJdZbYu2G9"
      },
      "outputs": [],
      "source": [
        "# Definiendo una funcion llamada saludo\n",
        "def saludos(name):\n",
        "    \n",
        "    \"\"\"\n",
        "    Esta función regresa impreso un saludo a la persona \n",
        "    cuyo nombre es ingresado como un parámetro\n",
        "    \"\"\"\n",
        "    \n",
        "    print(\"Hola, \" + name + \". ¡Buenos días!\")"
      ]
    },
    {
      "cell_type": "markdown",
      "metadata": {
        "id": "AiYAj9huu2G-"
      },
      "source": [
        "> Nota: En Python, la definición de la función siempre debe estar presente antes de la llamada a la función. De lo contrario, obtendremos un error. \n",
        "\n"
      ]
    },
    {
      "cell_type": "code",
      "execution_count": null,
      "metadata": {
        "id": "NN2VGZuUu2G-"
      },
      "outputs": [],
      "source": [
        "# Llamando la funcion\n",
        "greet_2('smary')\n",
        "\n",
        "# definición de funcion\n",
        "def greet_2(name):\n",
        "    \n",
        "    \"\"\"\n",
        "    Esta función regresa impreso un saludo a la persona \n",
        "    cuyo nombre es ingresado como un parámetro\n",
        "    \"\"\"\n",
        "    \n",
        "    print(\"Hola,\" + name + \". ¡Buenos días!\")"
      ]
    },
    {
      "cell_type": "markdown",
      "source": [
        "## función con return y sin return"
      ],
      "metadata": {
        "id": "sesVbsq0Gpx_"
      }
    },
    {
      "cell_type": "markdown",
      "source": [
        "Analiza el siguiente código e interpreta que valores imprime cada función.\n",
        "\n",
        "\n",
        "\n",
        "```\n",
        "# función con return\n",
        "def func_with_return():\n",
        "    a = 10\n",
        "    return a\n",
        "\n",
        "# función sin return\n",
        "def func_without_return():\n",
        "    a = 10\n",
        "\n",
        "print(func_with_return())\n",
        "print(func_without_return())\n",
        "```\n",
        "\n"
      ],
      "metadata": {
        "id": "PVtoCCMCMkFP"
      }
    },
    {
      "cell_type": "markdown",
      "metadata": {
        "id": "ZPU1VSHMu2G_"
      },
      "source": [
        "## Alcance y vida útil de las variables\n",
        "\n",
        "El **alcance** (o _scope_) de una _variable_ es la parte de un programa donde se reconoce la variable. \n",
        "La **vida útil** de una variable es el período durante el cual la variable existe en la memoria.\n",
        "\n",
        "- Los parámetros y variables definidos dentro de una función no son visibles desde fuera de la función. Por tanto, **tienen un alcance local**.\n",
        "- La **vida útil** de las variables dentro de una función es **tan larga como se ejecuta la función**. Es decir, se destruyen una vez que termina de ejecutarse la función. Por tanto, una función no recuerda el valor de una variable de sus ejecuciones anteriores.\n",
        "\n"
      ]
    },
    {
      "cell_type": "code",
      "execution_count": null,
      "metadata": {
        "id": "HQkBoJk_u2G_"
      },
      "outputs": [],
      "source": [
        "x = 20\n",
        "\n",
        "def my_func():\n",
        "    x = 10\n",
        "    print (\"Valor dentro de la función:\", x)\n",
        "\n",
        "\n",
        "my_func()\n",
        "print(\"Valor fuera de la función:\", x)"
      ]
    },
    {
      "cell_type": "markdown",
      "metadata": {
        "id": "rX5je1hVu2G_"
      },
      "source": [
        "- Aquí, podemos ver que el valor de `x` es `20` inicialmente. Aunque la función `my_func()` cambió el valor de `x` a `10`, no afectó el valor fuera de la función.\n",
        "- Esto se debe a que la variable `x` _dentro de la función_ **es diferente** (local a la función) de la _variable exterior_. Aunque tienen los mismos nombres, son dos variables diferentes con diferentes **alcances**.\n",
        "- Por otro lado, las variables externas a la función son visibles desde adentro. **Tienen un alcance global**.\n",
        "- Podemos leer estos valores desde dentro de la función pero no podemos cambiarlos (escribirlos). Para modificar el valor de las variables fuera de la función, deben declararse como variables globales utilizando la palabra clave `global`.\n",
        "\n"
      ]
    },
    {
      "cell_type": "code",
      "execution_count": null,
      "metadata": {
        "id": "3sQ_HbwMu2G_"
      },
      "outputs": [],
      "source": [
        "x = \"variable_global \"\n",
        "\n",
        "def my_function():\n",
        "    global x\n",
        "    y = \"variable_local\"\n",
        "    x = x * 2\n",
        "    print(x)\n",
        "    return y\n",
        "\n",
        "print(my_function())"
      ]
    },
    {
      "cell_type": "markdown",
      "metadata": {
        "id": "qDgHyhK7u2HA"
      },
      "source": [
        "## Tipos de argumentos/parámetros de una función en Python\n",
        "\n",
        "En Python podemos reconocer cuatro tipos de parámetros.\n",
        "\n",
        "1. **Parámetros no predeterminados**, no tiene valores asignados por defecto y se necesita (es obligatorio) asignarlo cuando se ejecuta la función. \n",
        "\n",
        "2. **Parámetros predeterminados**, tiene valores asignados por defecto utilizando el operador de asignación `=`. \n",
        "\n",
        "3. **Parámetros de palabras clave**, son valores que se asignan a los argumentos de acuerdo con su posición. \n",
        "\n",
        "4. **Parámetros arbitrarios**, cuando no sabemos de antemano el número de parámetros que se pasarán a una función. \n",
        "\n",
        "<br>\n",
        "\n",
        "- Si al ejucutar la función se proporciona un valor distinto al parámetro predeterminado, éste se sobrescribirá.\n",
        "- Cualquier cantidad de argumentos en una función puede tener un valor predeterminado. Pero una vez que tenemos un argumento predeterminado, todos los argumentos a su derecha también deben tener valores predeterminados. Esto significa que los parámetros no predeterminados no pueden estar después de los parámetros predeterminados.\n",
        "- Python permite llamar a funciones usando argumentos de palabras clave. Cuando llamamos a funciones usando parámetros de palabras clave, el orden (posición) de los parámetros se puede cambiar.\n",
        "- Podemos mezclar argumentos posicionales con argumentos de palabras clave durante la llamada a una función. Pero debemos tener en cuenta que los argumentos de palabras clave deben estar después de los argumentos posicionales.\n",
        "- En la definición de la función, usamos un asterisco `*` antes del nombre del parámetro para denotar que éste es del tipo parámetro arbitrario.\n"
      ]
    },
    {
      "cell_type": "code",
      "execution_count": null,
      "metadata": {
        "id": "AswKTCKVu2HA"
      },
      "outputs": [],
      "source": [
        "# Funcion con dos parametros, uno no predeterminado y uno predeterminado\n",
        "def greet_two_parameters(name, msg = \"¡Buenos días!\"):\n",
        "    \"\"\"\n",
        "    Esta función saluda a la persona con el\n",
        "    mensaje proporcionado.\n",
        "\n",
        "    Si no se proporciona el mensaje,\n",
        "    el valor predeterminado es \"¡Buenos días!\"\n",
        "    \"\"\"\n",
        "\n",
        "    print (\"Hola \", name + ',' + msg)\n",
        "\n",
        "\n",
        "greet_two_parameters(\"Enrique\")\n",
        "greet_two_parameters(\"Luis\", \"¿Cómo estás?\")"
      ]
    },
    {
      "cell_type": "code",
      "execution_count": null,
      "metadata": {
        "id": "EeBU4TAEu2HB"
      },
      "outputs": [],
      "source": [
        "# parametro de palabra clave está antes del posicional por lo que genera un error\n",
        "def greet_two_parameters(msg = \"¡Buenos días!\", name):\n",
        "    print (\"Hola \", name + ',' + msg)\n"
      ]
    },
    {
      "cell_type": "code",
      "execution_count": null,
      "metadata": {
        "id": "jhrFLFb8u2HB"
      },
      "outputs": [],
      "source": [
        "# 2 argumentos de palabras clave\n",
        "greet_two_parameters(name = \"Hugo\", msg = \"¿Cómo estás?\")\n",
        "\n",
        "# 2 argumentos de palabras clave (fuera de orden)\n",
        "greet_two_parameters(msg = \"¿Cómo estás?\", name = \"Hugo\")\n",
        "\n",
        "# 1 argumento posicional, 1 palabra clave\n",
        "greet_two_parameters(\"Hugo\", msg = \"¿Cómo estás?\")\n"
      ]
    },
    {
      "cell_type": "code",
      "execution_count": null,
      "metadata": {
        "id": "C5Awd-jCu2HC"
      },
      "outputs": [],
      "source": [
        "# 1 parametro de palabra clave y uno posicional, pero el de palabra clave está antes del posicional por lo que genera un error\n",
        "greet_two_parameters(name = \"Leo\", \"¿Cómo estás?\")\n"
      ]
    },
    {
      "cell_type": "code",
      "execution_count": null,
      "metadata": {
        "id": "m0evALkpu2HC"
      },
      "outputs": [],
      "source": [
        "# Función con parametro arbitrario\n",
        "def greet_arbitray_parameters(*names):\n",
        "    \"\"\"\n",
        "    Esta función saluda a todos\n",
        "    la persona en la tupla de nombres. \n",
        "    \"\"\"\n",
        "\n",
        "    # names es una tupla con argumentos\n",
        "    for name in names:\n",
        "        print(\"Hola\", name)\n",
        "\n",
        "greet_arbitray_parameters(\"Marcelo\", \"Felipe\", \"Hugo\", \"Leo\", \"Hernan\")\n",
        "greet_arbitray_parameters(\"Marcelo1\", \"Felipe1\", \"Hugo1\")"
      ]
    },
    {
      "cell_type": "markdown",
      "metadata": {
        "id": "HrlfifHJu2HC"
      },
      "source": [
        "## lambda\n",
        "\n",
        "`lambda` se utiliza para crear una función anónima (función sin nombre). \n",
        "\n",
        "<br>\n",
        "\n",
        "#### Funciones lambda en Python\n",
        "\n",
        "Las funciones anónimas también se denominan **funciones lambda**. Su sintaxis es como se muestra a continuación:\n",
        "\n",
        "<br>\n",
        "\n",
        "```python\n",
        "lambda <parameters>: <expression>\n",
        "```\n",
        "\n",
        "<br>\n",
        "\n",
        "- Es una función en línea que no contiene una declaración `return`.\n",
        "- Pueden tener cualquier número de parámetros, pero solo una expresión a evaluar.\n",
        "- La expresión es evaluada y su valor es inmediatamente devuelto. \n",
        "- Usamos **funciones lambda** cuando necesitamos una función sin nombre por un período corto de tiempo."
      ]
    },
    {
      "cell_type": "code",
      "execution_count": null,
      "metadata": {
        "id": "q-5JHPBvu2HC"
      },
      "outputs": [],
      "source": [
        "# Funcion lambda asignada al identificador double\n",
        "\n",
        "multiplicar_por_2_ = lambda numero :  numero * 2\n",
        "print(multiplicar_por_2_)"
      ]
    },
    {
      "cell_type": "code",
      "source": [
        "print(multiplicar_por_2_(5))"
      ],
      "metadata": {
        "id": "le4yL5zS_yDx"
      },
      "execution_count": null,
      "outputs": []
    },
    {
      "cell_type": "code",
      "execution_count": null,
      "metadata": {
        "id": "CeKW26uOu2HD"
      },
      "outputs": [],
      "source": [
        "# Usando la funcion lambda en un ciclo for\n",
        "for i in range(1, 6):\n",
        "    print(multiplicar_por_2_(i))"
      ]
    },
    {
      "cell_type": "code",
      "source": [
        "# con varios parametros\n",
        "\n",
        "multiplicar = lambda numero1, numero2, numero3: numero1 * numero2 * numero3\n",
        "\n",
        "resultado = multiplicar(10, 2, 9)\n",
        "print(resultado)"
      ],
      "metadata": {
        "id": "RyiTQvyg_gJW"
      },
      "execution_count": null,
      "outputs": []
    },
    {
      "cell_type": "code",
      "source": [
        "# use la misma definición de función para hacer ambas funciones, en el mismo programa\n",
        "\n",
        "def potencia(elevado):\n",
        "  return lambda val: val ** elevado\n",
        "\n",
        "potencia_function_base2_ = potencia(2)\n",
        "potencia_function_base3_ = potencia(3)\n",
        "\n",
        "for numero in range(0,10):\n",
        "  if numero % 2:\n",
        "    print(potencia_function_base2_(numero))\n",
        "  else:\n",
        "    print(potencia_function_base3_(numero))"
      ],
      "metadata": {
        "id": "fo-tD8UL_9he"
      },
      "execution_count": null,
      "outputs": []
    },
    {
      "cell_type": "markdown",
      "source": [
        "**Ejercicio Final** Crea una función que reciba como parametro un número entero y retorne un número binario.\n",
        "\n",
        "- input: Si no es un entero imprimir \"No es un número entero\"\n",
        "- input: Si el número < 2 imprimir \"El número debe ser mayor o igual que 2\"\n",
        "\n",
        "Para convertir un número entero en binario, se divide el número entre 2 sucesivamente hasta que el cociente sea 1 y concatenar el cociente 1 con el resto de cada operación. Por ejemplo:\n",
        "\n",
        "* n = 8\n",
        "* 8 / 2 = 4 resto **0**\n",
        "* 4 / 2 = 2 resto **0**\n",
        "* 2 / 2 = **1** (Es igual a 1, se detiene el calculo) resto **0**\n",
        "\n",
        "resultado **1000**\n",
        "\n",
        "<img src=\"http://drive.google.com/uc?export=view&id=15FijwSeiye_FlV5I_2MIQMLjyrt13Cah\">"
      ],
      "metadata": {
        "id": "MxQzJoaqNvxy"
      }
    },
    {
      "cell_type": "code",
      "source": [
        "# resultado"
      ],
      "metadata": {
        "id": "e3TvCr32NuSn"
      },
      "execution_count": null,
      "outputs": []
    },
    {
      "cell_type": "markdown",
      "source": [
        "# Próxima clase\n",
        "\n",
        "## Datos complejos\n",
        "*  **Tuplas** (tuple)\n",
        "*  **Listas** (list)\n",
        "*  **Diccionarios** (dict)\n",
        "*  **Conjuntos** (set)\n",
        "\n",
        "##  Librerías Numéricas\n",
        "*  **Numpy**\n",
        "*  **Scipy**"
      ],
      "metadata": {
        "id": "dSL7E1b7G2xC"
      }
    },
    {
      "cell_type": "markdown",
      "source": [
        "# END"
      ],
      "metadata": {
        "id": "vXcqC7W_Ib6e"
      }
    }
  ]
}